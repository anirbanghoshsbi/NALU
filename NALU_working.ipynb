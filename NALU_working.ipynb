{
  "nbformat": 4,
  "nbformat_minor": 0,
  "metadata": {
    "colab": {
      "name": "NALU_working.ipynb",
      "version": "0.3.2",
      "provenance": [],
      "collapsed_sections": []
    },
    "kernelspec": {
      "name": "python3",
      "display_name": "Python 3"
    }
  },
  "cells": [
    {
      "metadata": {
        "id": "KM_AUDOMKzlY",
        "colab_type": "code",
        "colab": {}
      },
      "cell_type": "code",
      "source": [
        "import tensorflow as tf\n",
        "import numpy as np"
      ],
      "execution_count": 0,
      "outputs": []
    },
    {
      "metadata": {
        "id": "QSoxZ55FLXsi",
        "colab_type": "code",
        "colab": {}
      },
      "cell_type": "code",
      "source": [
        "X_data = np.random.randn(10000 ,10)"
      ],
      "execution_count": 0,
      "outputs": []
    },
    {
      "metadata": {
        "id": "JUSdDQUuMS6a",
        "colab_type": "code",
        "colab": {
          "base_uri": "https://localhost:8080/",
          "height": 34
        },
        "outputId": "b9aea76e-0f6a-4107-a026-5e09d037924f"
      },
      "cell_type": "code",
      "source": [
        "X_data.shape"
      ],
      "execution_count": 0,
      "outputs": [
        {
          "output_type": "execute_result",
          "data": {
            "text/plain": [
              "(10000, 10)"
            ]
          },
          "metadata": {
            "tags": []
          },
          "execution_count": 221
        }
      ]
    },
    {
      "metadata": {
        "id": "yhxQj7mBMTxC",
        "colab_type": "code",
        "colab": {
          "base_uri": "https://localhost:8080/",
          "height": 357
        },
        "outputId": "824b969a-b25f-48e1-b1b2-29eaec833154"
      },
      "cell_type": "code",
      "source": [
        "X_data[:10]"
      ],
      "execution_count": 0,
      "outputs": [
        {
          "output_type": "execute_result",
          "data": {
            "text/plain": [
              "array([[ 0.1110059 ,  0.00589148, -0.7517377 ,  0.15770225,  0.87526611,\n",
              "         0.32541019, -0.00343537, -0.07562344, -0.04418224, -0.77416179],\n",
              "       [ 0.89961363, -0.05860893,  1.31705043,  0.85000452,  0.535767  ,\n",
              "        -0.39235898,  1.63386488, -0.63357895,  0.7862246 , -1.36584787],\n",
              "       [-0.43942154, -1.13121434, -0.19486473, -0.36790313,  0.96325773,\n",
              "        -0.03377515, -0.43080723,  1.07983776,  0.12485353,  0.84006463],\n",
              "       [-0.54099068,  1.54109284, -0.81157823, -0.54917874, -0.54492947,\n",
              "         0.26784057, -0.57916176, -0.0673395 , -0.54215555, -0.77722335],\n",
              "       [ 0.51347398,  1.52097783,  1.45520469, -0.90487424, -1.00320794,\n",
              "         0.47431417,  1.6668796 ,  0.18232797,  0.86558921,  1.36857951],\n",
              "       [ 1.66016704, -1.35634683,  0.50044796,  0.30492061, -0.96006364,\n",
              "         0.6368989 ,  0.90619315,  0.3143148 , -0.10646733,  0.21605718],\n",
              "       [ 0.10889222, -0.13001652, -2.09897763,  1.01154258, -0.00594798,\n",
              "         0.52822388, -0.22527761, -0.66847364,  1.78259898,  0.56859962],\n",
              "       [ 0.38500678, -0.94103883, -0.41295742,  1.14249028,  0.3953011 ,\n",
              "        -0.04156253, -1.13911277, -0.1805642 ,  0.63470363,  1.25373368],\n",
              "       [-0.1932859 ,  1.34192171,  0.42359621, -1.17581899, -1.53807965,\n",
              "         0.3571183 ,  1.87429938, -0.82213358,  1.00109372, -1.52392088],\n",
              "       [ 1.29290049, -1.13668853, -1.33824444,  0.50761307, -1.10982143,\n",
              "         1.37559165, -1.61400143, -0.12214617,  0.93630925, -0.24087414]])"
            ]
          },
          "metadata": {
            "tags": []
          },
          "execution_count": 222
        }
      ]
    },
    {
      "metadata": {
        "id": "Cu9zQKCNT1ew",
        "colab_type": "code",
        "colab": {}
      },
      "cell_type": "code",
      "source": [
        "#r = lambda : np.random.randint(1,3)\n",
        "#x= np.array([[r(),r(),r()] for _ in range(1000)])"
      ],
      "execution_count": 0,
      "outputs": []
    },
    {
      "metadata": {
        "id": "3uVEdVkJUg-e",
        "colab_type": "code",
        "colab": {
          "base_uri": "https://localhost:8080/",
          "height": 34
        },
        "outputId": "57adcb28-0cb8-4402-9a8e-8afd24823630"
      },
      "cell_type": "code",
      "source": [
        "X_data[0].shape"
      ],
      "execution_count": 0,
      "outputs": [
        {
          "output_type": "execute_result",
          "data": {
            "text/plain": [
              "(10,)"
            ]
          },
          "metadata": {
            "tags": []
          },
          "execution_count": 224
        }
      ]
    },
    {
      "metadata": {
        "id": "mGryecJNUrvI",
        "colab_type": "code",
        "colab": {
          "base_uri": "https://localhost:8080/",
          "height": 34
        },
        "outputId": "80b5a1e4-5bf6-47c4-83b3-603cd22ce616"
      },
      "cell_type": "code",
      "source": [
        "X_data.shape"
      ],
      "execution_count": 0,
      "outputs": [
        {
          "output_type": "execute_result",
          "data": {
            "text/plain": [
              "(10000, 10)"
            ]
          },
          "metadata": {
            "tags": []
          },
          "execution_count": 225
        }
      ]
    },
    {
      "metadata": {
        "id": "pHtry5FQMW_l",
        "colab_type": "code",
        "colab": {}
      },
      "cell_type": "code",
      "source": [
        "y_data=np.prod(X_data , axis=1 , keepdims=True)"
      ],
      "execution_count": 0,
      "outputs": []
    },
    {
      "metadata": {
        "id": "bsQOjh2MMhCd",
        "colab_type": "code",
        "colab": {
          "base_uri": "https://localhost:8080/",
          "height": 34
        },
        "outputId": "ae0e62f9-741b-4aab-b10b-ffd441afae90"
      },
      "cell_type": "code",
      "source": [
        "y_data.shape"
      ],
      "execution_count": 0,
      "outputs": [
        {
          "output_type": "execute_result",
          "data": {
            "text/plain": [
              "(10000, 1)"
            ]
          },
          "metadata": {
            "tags": []
          },
          "execution_count": 227
        }
      ]
    },
    {
      "metadata": {
        "id": "9A_KR9CsMiEW",
        "colab_type": "code",
        "colab": {}
      },
      "cell_type": "code",
      "source": [
        "shape = (int(X_data.shape[-1]), 1)\n",
        "\n",
        "    "
      ],
      "execution_count": 0,
      "outputs": []
    },
    {
      "metadata": {
        "id": "T26Xtyr5NY9q",
        "colab_type": "code",
        "colab": {}
      },
      "cell_type": "code",
      "source": [
        "EPOCHS = 20\n",
        "LEARNING_RATE = 1e-3\n",
        "BATCH_SIZE = 10"
      ],
      "execution_count": 0,
      "outputs": []
    },
    {
      "metadata": {
        "id": "SL4tw7UiNnIj",
        "colab_type": "code",
        "colab": {}
      },
      "cell_type": "code",
      "source": [
        "# define placeholders and network\n",
        "X = tf.placeholder(tf.float32, shape=[BATCH_SIZE, 10])\n",
        "y_true = tf.placeholder(tf.float32, shape=[BATCH_SIZE, 1])"
      ],
      "execution_count": 0,
      "outputs": []
    },
    {
      "metadata": {
        "id": "eGO2IxQ8NIfb",
        "colab_type": "code",
        "colab": {}
      },
      "cell_type": "code",
      "source": [
        "# define variables\n",
        "W_hat = tf.Variable(tf.truncated_normal(shape, stddev=0.02))\n",
        "M_hat = tf.Variable(tf.truncated_normal(shape, stddev=0.02))\n",
        "G = tf.Variable(tf.truncated_normal(shape, stddev=0.02))\n",
        "\n",
        "# Equations in the Research Paper\n",
        "# NAC : (a =Wx) where W = tanh(W_hat)*sigmoid(M_hat)\n",
        "# NALU: additive part +multiplicative part\n",
        "# where the additive part is : g*a and multiplicative part is:(1-g)*m where M = expW*(log|x|+epsilon)\n",
        "#g=sigmoid(Gx)\n",
        "#* refer to element wise operation\n",
        "W = tf.tanh(W_hat) * tf.sigmoid(M_hat)\n",
        "m = tf.exp(tf.matmul(tf.log(tf.abs(X) + 1e-7), W))\n",
        "g = tf.sigmoid(tf.matmul(X, G))\n",
        "a = tf.matmul(X, W)\n",
        "y_pred= g * a + (1 - g) * m"
      ],
      "execution_count": 0,
      "outputs": []
    },
    {
      "metadata": {
        "id": "lLMZjMVHOR6d",
        "colab_type": "code",
        "colab": {}
      },
      "cell_type": "code",
      "source": [
        "# loss and train operations\n",
        "loss = tf.nn.l2_loss(y_pred - y_true) # NALU uses mse\n",
        "optimizer = tf.train.AdamOptimizer(LEARNING_RATE)\n",
        "train_op = optimizer.minimize(loss)"
      ],
      "execution_count": 0,
      "outputs": []
    },
    {
      "metadata": {
        "id": "6oqcuq-qOicB",
        "colab_type": "code",
        "colab": {}
      },
      "cell_type": "code",
      "source": [
        "sess = tf.Session()\n",
        "init = tf.global_variables_initializer()\n",
        "sess.run(init)"
      ],
      "execution_count": 0,
      "outputs": []
    },
    {
      "metadata": {
        "id": "dOc_WxxBOtL3",
        "colab_type": "code",
        "colab": {
          "base_uri": "https://localhost:8080/",
          "height": 357
        },
        "outputId": "03ab6f38-3758-4e28-9fa3-4528476bd2c3"
      },
      "cell_type": "code",
      "source": [
        "for epoch in range(EPOCHS):\n",
        "        i = 0\n",
        "        pred_corr = 0\n",
        "        \n",
        "        while i < len(X_data):\n",
        "            xs, ys = X_data[i:i+BATCH_SIZE], y_data[i:i+BATCH_SIZE]\n",
        "\n",
        "            _, ys_pred, l = sess.run([train_op, y_pred, loss],feed_dict={X: xs, y_true: ys})\n",
        "\n",
        "            # calculate number of correct predictions from batch\n",
        "            pred_corr += np.sum(np.isclose(ys, ys_pred, atol=1e-4, rtol=1e-4)) \n",
        "\n",
        "            i += BATCH_SIZE\n",
        "\n",
        "        acc = pred_corr/len(y_data)\n",
        "        print('epoch {2}, loss: {0}, accuracy: {1}'.format(l, acc, epoch))"
      ],
      "execution_count": 0,
      "outputs": [
        {
          "output_type": "stream",
          "text": [
            "epoch 0, loss: 0.29240313172340393, accuracy: 0.0003\n",
            "epoch 1, loss: 0.30453646183013916, accuracy: 0.0004\n",
            "epoch 2, loss: 0.3145301043987274, accuracy: 0.0002\n",
            "epoch 3, loss: 0.32268479466438293, accuracy: 0.0004\n",
            "epoch 4, loss: 0.3293045461177826, accuracy: 0.0003\n",
            "epoch 5, loss: 0.3346647322177887, accuracy: 0.0004\n",
            "epoch 6, loss: 0.33900031447410583, accuracy: 0.0002\n",
            "epoch 7, loss: 0.34250667691230774, accuracy: 0.0002\n",
            "epoch 8, loss: 0.34534305334091187, accuracy: 0.0002\n",
            "epoch 9, loss: 0.3476385772228241, accuracy: 0.0001\n",
            "epoch 10, loss: 0.3494974672794342, accuracy: 0.0002\n",
            "epoch 11, loss: 0.3510036766529083, accuracy: 0.0003\n",
            "epoch 12, loss: 0.352225124835968, accuracy: 0.0\n",
            "epoch 13, loss: 0.35321611166000366, accuracy: 0.0001\n",
            "epoch 14, loss: 0.35402074456214905, accuracy: 0.0001\n",
            "epoch 15, loss: 0.3546745181083679, accuracy: 0.0003\n",
            "epoch 16, loss: 0.3552064895629883, accuracy: 0.0004\n",
            "epoch 17, loss: 0.3556392192840576, accuracy: 0.0003\n",
            "epoch 18, loss: 0.3559921979904175, accuracy: 0.0002\n",
            "epoch 19, loss: 0.3562801480293274, accuracy: 0.0001\n"
          ],
          "name": "stdout"
        }
      ]
    }
  ]
}